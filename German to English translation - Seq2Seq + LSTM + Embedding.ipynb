{
 "cells": [
  {
   "cell_type": "markdown",
   "id": "municipal-victoria",
   "metadata": {},
   "source": [
    "<h1 style=\"color:blue;\"> LANGUAGE TRANSLATION </h1>"
   ]
  },
  {
   "cell_type": "markdown",
   "id": "quick-shepherd",
   "metadata": {},
   "source": [
    "## German to English Translation"
   ]
  },
  {
   "cell_type": "code",
   "execution_count": 2,
   "id": "shaped-clearing",
   "metadata": {},
   "outputs": [],
   "source": [
    "import tensorflow as tf\n",
    "physical_devices = tf.config.list_physical_devices('GPU')\n",
    "tf.config.experimental.set_memory_growth(physical_devices[0], enable=True)"
   ]
  },
  {
   "cell_type": "code",
   "execution_count": 31,
   "id": "overall-crossing",
   "metadata": {},
   "outputs": [],
   "source": [
    "from numpy import array\n",
    "from tensorflow.keras.preprocessing.text import Tokenizer\n",
    "from tensorflow.keras.preprocessing.sequence import pad_sequences\n",
    "from tensorflow.keras.utils import to_categorical\n",
    "from tensorflow.keras.utils import plot_model\n",
    "from tensorflow.keras.models import Sequential\n",
    "from tensorflow.keras.layers import LSTM, Dropout, Dense, Embedding, RepeatVector, TimeDistributed\n",
    "from tensorflow.keras.callbacks import ModelCheckpoint"
   ]
  },
  {
   "cell_type": "code",
   "execution_count": 44,
   "id": "combined-project",
   "metadata": {},
   "outputs": [],
   "source": [
    "import string\n",
    "import re\n",
    "from pickle import dump, load\n",
    "from unicodedata import normalize\n",
    "from numpy import array, argmax\n",
    "from numpy.random import rand, shuffle\n",
    "from nltk.translate.bleu_score import corpus_bleu"
   ]
  },
  {
   "cell_type": "markdown",
   "id": "bigger-georgia",
   "metadata": {},
   "source": [
    "## Load Data\n",
    "\n",
    "Data preparation is divided into two subsections:\n",
    "\n",
    " - Clean Text\n",
    " - Split Text"
   ]
  },
  {
   "cell_type": "code",
   "execution_count": 5,
   "id": "orange-endorsement",
   "metadata": {},
   "outputs": [],
   "source": [
    " \n",
    "# load doc into memory\n",
    "def load_doc(filename):\n",
    "\t# open the file as read only\n",
    "\tfile = open(filename, mode='rt', encoding='utf-8')\n",
    "\t# read all text\n",
    "\ttext = file.read()\n",
    "\t# close the file\n",
    "\tfile.close()\n",
    "\treturn text\n",
    " \n",
    "# split a loaded document into sentences\n",
    "def to_pairs(doc):\n",
    "\tlines = doc.strip().split('\\n')\n",
    "\tpairs = [line.split('\\t') for line in  lines]\n",
    "\treturn pairs\n",
    " \n",
    "# clean a list of lines\n",
    "def clean_pairs(lines):\n",
    "\tcleaned = list()\n",
    "\t# prepare regex for char filtering\n",
    "\tre_print = re.compile('[^%s]' % re.escape(string.printable))\n",
    "\t# prepare translation table for removing punctuation\n",
    "\ttable = str.maketrans('', '', string.punctuation)\n",
    "\tfor pair in lines:\n",
    "\t\tclean_pair = list()\n",
    "\t\tfor line in pair:\n",
    "\t\t\t# normalize unicode characters\n",
    "\t\t\tline = normalize('NFD', line).encode('ascii', 'ignore')\n",
    "\t\t\tline = line.decode('UTF-8')\n",
    "\t\t\t# tokenize on white space\n",
    "\t\t\tline = line.split()\n",
    "\t\t\t# convert to lowercase\n",
    "\t\t\tline = [word.lower() for word in line]\n",
    "\t\t\t# remove punctuation from each token\n",
    "\t\t\tline = [word.translate(table) for word in line]\n",
    "\t\t\t# remove non-printable chars form each token\n",
    "\t\t\tline = [re_print.sub('', w) for w in line]\n",
    "\t\t\t# remove tokens with numbers in them\n",
    "\t\t\tline = [word for word in line if word.isalpha()]\n",
    "\t\t\t# store as string\n",
    "\t\t\tclean_pair.append(' '.join(line))\n",
    "\t\tcleaned.append(clean_pair)\n",
    "\treturn array(cleaned)"
   ]
  },
  {
   "cell_type": "code",
   "execution_count": 6,
   "id": "turned-aurora",
   "metadata": {
    "scrolled": true
   },
   "outputs": [
    {
     "name": "stdout",
     "output_type": "stream",
     "text": [
      "Saved: english-german.pkl\n",
      "[hi] => [hallo]\n",
      "[hi] => [gru gott]\n",
      "[run] => [lauf]\n",
      "[wow] => [potzdonner]\n",
      "[wow] => [donnerwetter]\n",
      "[fire] => [feuer]\n",
      "[help] => [hilfe]\n",
      "[help] => [zu hulf]\n",
      "[stop] => [stopp]\n",
      "[wait] => [warte]\n",
      "[hello] => [hallo]\n",
      "[i try] => [ich probiere es]\n",
      "[i won] => [ich hab gewonnen]\n",
      "[i won] => [ich habe gewonnen]\n",
      "[smile] => [lacheln]\n",
      "[cheers] => [zum wohl]\n",
      "[freeze] => [keine bewegung]\n",
      "[freeze] => [stehenbleiben]\n",
      "[got it] => [verstanden]\n",
      "[got it] => [einverstanden]\n",
      "[he ran] => [er rannte]\n",
      "[he ran] => [er lief]\n",
      "[hop in] => [mach mit]\n",
      "[hug me] => [druck mich]\n",
      "[hug me] => [nimm mich in den arm]\n",
      "[hug me] => [umarme mich]\n",
      "[i fell] => [ich fiel]\n",
      "[i fell] => [ich fiel hin]\n",
      "[i fell] => [ich sturzte]\n",
      "[i fell] => [ich bin hingefallen]\n",
      "[i fell] => [ich bin gesturzt]\n",
      "[i know] => [ich wei]\n",
      "[i lied] => [ich habe gelogen]\n",
      "[i lost] => [ich habe verloren]\n",
      "[im] => [ich bin jahre alt]\n",
      "[im] => [ich bin]\n",
      "[im ok] => [mir gehts gut]\n",
      "[im ok] => [es geht mir gut]\n",
      "[no way] => [unmoglich]\n",
      "[no way] => [das gibts doch nicht]\n",
      "[no way] => [ausgeschlossen]\n",
      "[no way] => [in keinster weise]\n",
      "[really] => [wirklich]\n",
      "[really] => [echt]\n",
      "[really] => [im ernst]\n",
      "[thanks] => [danke]\n",
      "[try it] => [versuchs]\n",
      "[why me] => [warum ich]\n",
      "[ask tom] => [frag tom]\n",
      "[ask tom] => [fragen sie tom]\n",
      "[ask tom] => [fragt tom]\n",
      "[be cool] => [entspann dich]\n",
      "[be fair] => [sei nicht ungerecht]\n",
      "[be fair] => [sei fair]\n",
      "[be nice] => [sei nett]\n",
      "[be nice] => [seien sie nett]\n",
      "[beat it] => [geh weg]\n",
      "[beat it] => [hau ab]\n",
      "[beat it] => [verschwinde]\n",
      "[beat it] => [verdufte]\n",
      "[beat it] => [mach dich fort]\n",
      "[beat it] => [zieh leine]\n",
      "[beat it] => [mach dich vom acker]\n",
      "[beat it] => [verzieh dich]\n",
      "[beat it] => [verkrumele dich]\n",
      "[beat it] => [troll dich]\n",
      "[beat it] => [zisch ab]\n",
      "[beat it] => [pack dich]\n",
      "[beat it] => [mach ne fliege]\n",
      "[beat it] => [schwirr ab]\n",
      "[beat it] => [mach die sause]\n",
      "[beat it] => [scher dich weg]\n",
      "[beat it] => [scher dich fort]\n",
      "[call me] => [ruf mich an]\n",
      "[come in] => [komm herein]\n",
      "[come in] => [herein]\n",
      "[come on] => [komm]\n",
      "[come on] => [kommt]\n",
      "[come on] => [mach schon]\n",
      "[come on] => [macht schon]\n",
      "[get out] => [raus]\n",
      "[go away] => [geh weg]\n",
      "[go away] => [hau ab]\n",
      "[go away] => [verschwinde]\n",
      "[go away] => [verdufte]\n",
      "[go away] => [mach dich fort]\n",
      "[go away] => [zieh leine]\n",
      "[go away] => [mach dich vom acker]\n",
      "[go away] => [verzieh dich]\n",
      "[go away] => [verkrumele dich]\n",
      "[go away] => [troll dich]\n",
      "[go away] => [zisch ab]\n",
      "[go away] => [pack dich]\n",
      "[go away] => [mach ne fliege]\n",
      "[go away] => [schwirr ab]\n",
      "[go away] => [mach die sause]\n",
      "[go away] => [scher dich weg]\n",
      "[go away] => [scher dich fort]\n",
      "[go away] => [geh weg]\n",
      "[go away] => [verpiss dich]\n"
     ]
    }
   ],
   "source": [
    "# save a list of clean sentences to file\n",
    "def save_clean_data(sentences, filename):\n",
    "\tdump(sentences, open(filename, 'wb'))\n",
    "\tprint('Saved: %s' % filename)\n",
    " \n",
    "# load dataset\n",
    "filename = 'deu-eng.txt'\n",
    "doc = load_doc(filename)\n",
    "# split into english-german pairs\n",
    "pairs = to_pairs(doc)\n",
    "# clean sentences\n",
    "clean_pairs = clean_pairs(pairs)\n",
    "# save clean pairs to file\n",
    "save_clean_data(clean_pairs, 'english-german.pkl')\n",
    "# spot check\n",
    "for i in range(100):\n",
    "\tprint('[%s] => [%s]' % (clean_pairs[i,0], clean_pairs[i,1]))"
   ]
  },
  {
   "cell_type": "markdown",
   "id": "isolated-judgment",
   "metadata": {},
   "source": [
    "The clean data contains a little over 150,000 phrase pairs and some of the pairs toward the end of the file are very long."
   ]
  },
  {
   "cell_type": "code",
   "execution_count": 7,
   "id": "unavailable-landing",
   "metadata": {},
   "outputs": [
    {
     "name": "stdout",
     "output_type": "stream",
     "text": [
      "Saved: english-german-both.pkl\n",
      "Saved: english-german-train.pkl\n",
      "Saved: english-german-test.pkl\n"
     ]
    }
   ],
   "source": [
    "def load_clean_sentences(filename):\n",
    "\treturn load(open(filename, 'rb'))\n",
    " \n",
    "# save a list of clean sentences to file\n",
    "def save_clean_data(sentences, filename):\n",
    "\tdump(sentences, open(filename, 'wb'))\n",
    "\tprint('Saved: %s' % filename)\n",
    " \n",
    "# load dataset\n",
    "raw_dataset = load_clean_sentences('english-german.pkl')\n",
    " \n",
    "# reduce dataset size\n",
    "n_sentences = 10000\n",
    "dataset = raw_dataset[:n_sentences, :]\n",
    "# random shuffle\n",
    "shuffle(dataset)\n",
    "# split into train/test\n",
    "train, test = dataset[:9000], dataset[9000:]\n",
    "# save\n",
    "save_clean_data(dataset, 'english-german-both.pkl')\n",
    "save_clean_data(train, 'english-german-train.pkl')\n",
    "save_clean_data(test, 'english-german-test.pkl')"
   ]
  },
  {
   "cell_type": "code",
   "execution_count": 8,
   "id": "sufficient-century",
   "metadata": {},
   "outputs": [],
   "source": [
    "# load datasets\n",
    "dataset = load_clean_sentences('english-german-both.pkl')\n",
    "train = load_clean_sentences('english-german-train.pkl')\n",
    "test = load_clean_sentences('english-german-test.pkl')"
   ]
  },
  {
   "cell_type": "code",
   "execution_count": 9,
   "id": "cubic-marshall",
   "metadata": {},
   "outputs": [
    {
     "data": {
      "text/plain": [
       "array([['ask tom', 'frag tom'],\n",
       "       ['it gets better', 'es wird besser'],\n",
       "       ['tom has asthma', 'tom hat asthma'],\n",
       "       ...,\n",
       "       ['i dont get it', 'das kapier ich nicht'],\n",
       "       ['dont follow me', 'komm mir nicht hinterher'],\n",
       "       ['ill play along', 'ich werde mitarbeiten']], dtype='<U370')"
      ]
     },
     "execution_count": 9,
     "metadata": {},
     "output_type": "execute_result"
    }
   ],
   "source": [
    "dataset"
   ]
  },
  {
   "cell_type": "code",
   "execution_count": 10,
   "id": "legitimate-liberal",
   "metadata": {},
   "outputs": [
    {
     "name": "stdout",
     "output_type": "stream",
     "text": [
      "(9000, 2)\n",
      "(1000, 2)\n"
     ]
    }
   ],
   "source": [
    "print(train.shape)\n",
    "print(test.shape)"
   ]
  },
  {
   "cell_type": "markdown",
   "id": "democratic-albany",
   "metadata": {},
   "source": [
    "## Tokenize"
   ]
  },
  {
   "cell_type": "code",
   "execution_count": 11,
   "id": "increasing-exposure",
   "metadata": {},
   "outputs": [],
   "source": [
    "def create_tokenizer(lines):\n",
    "\ttokenizer = Tokenizer()\n",
    "\ttokenizer.fit_on_texts(lines)\n",
    "\treturn tokenizer\n",
    "\n",
    "\n",
    "# max sentence length\n",
    "def max_length(lines):\n",
    "\treturn max(len(line.split()) for line in lines)\n"
   ]
  },
  {
   "cell_type": "code",
   "execution_count": 12,
   "id": "major-jimmy",
   "metadata": {},
   "outputs": [
    {
     "name": "stdout",
     "output_type": "stream",
     "text": [
      "English Vocabulary Size: 2404\n",
      "English Max Length: 5\n",
      "German Vocabulary Size: 3856\n",
      "German Max Length: 10\n"
     ]
    }
   ],
   "source": [
    "\n",
    "# prepare english tokenizer\n",
    "eng_tokenizer = create_tokenizer(dataset[:, 0])\n",
    "eng_vocab_size = len(eng_tokenizer.word_index) + 1\n",
    "eng_length = max_length(dataset[:, 0])\n",
    "print('English Vocabulary Size: %d' % eng_vocab_size)\n",
    "print('English Max Length: %d' % (eng_length))\n",
    "\n",
    "\n",
    "# prepare german tokenizer\n",
    "ger_tokenizer = create_tokenizer(dataset[:, 1])\n",
    "ger_vocab_size = len(ger_tokenizer.word_index) + 1\n",
    "ger_length = max_length(dataset[:, 1])\n",
    "print('German Vocabulary Size: %d' % ger_vocab_size)\n",
    "print('German Max Length: %d' % (ger_length))\n"
   ]
  },
  {
   "cell_type": "markdown",
   "id": "hydraulic-phase",
   "metadata": {},
   "source": [
    "## Padding\n",
    "\n",
    "Each input and output sequence must be encoded to integers and padded to the maximum phrase length. This is because we will use a word embedding for the input sequences and one hot encode the output sequences"
   ]
  },
  {
   "cell_type": "code",
   "execution_count": 13,
   "id": "historic-corrections",
   "metadata": {},
   "outputs": [],
   "source": [
    "# encode and pad sequences\n",
    "def encode_sequences(tokenizer, length, lines):\n",
    "\t# integer encode sequences\n",
    "\tX = tokenizer.texts_to_sequences(lines)\n",
    "\t# pad sequences with 0 values\n",
    "\tX = pad_sequences(X, maxlen=length, padding='post')\n",
    "\treturn X"
   ]
  },
  {
   "cell_type": "markdown",
   "id": "disturbed-portfolio",
   "metadata": {},
   "source": [
    "The output sequence needs to be one-hot encoded. This is because the model will predict the probability of each word in the vocabulary as output"
   ]
  },
  {
   "cell_type": "code",
   "execution_count": 14,
   "id": "marked-shakespeare",
   "metadata": {},
   "outputs": [],
   "source": [
    "# one hot encode target sequence\n",
    "def encode_output(sequences, vocab_size):\n",
    "\tylist = list()\n",
    "\tfor sequence in sequences:\n",
    "\t\tencoded = to_categorical(sequence, num_classes=vocab_size)\n",
    "\t\tylist.append(encoded)\n",
    "\ty = array(ylist)\n",
    "\ty = y.reshape(sequences.shape[0], sequences.shape[1], vocab_size)\n",
    "\treturn y\n"
   ]
  },
  {
   "cell_type": "markdown",
   "id": "harmful-summit",
   "metadata": {},
   "source": [
    "## Data Prep"
   ]
  },
  {
   "cell_type": "code",
   "execution_count": 15,
   "id": "intensive-denial",
   "metadata": {},
   "outputs": [],
   "source": [
    "# prepare training data\n",
    "trainX = encode_sequences(ger_tokenizer, ger_length, train[:, 1])\n",
    "trainY = encode_sequences(eng_tokenizer, eng_length, train[:, 0])\n",
    "trainY = encode_output(trainY, eng_vocab_size)\n",
    "\n",
    "# prepare validation data\n",
    "testX = encode_sequences(ger_tokenizer, ger_length, test[:, 1])\n",
    "testY = encode_sequences(eng_tokenizer, eng_length, test[:, 0])\n",
    "testY = encode_output(testY, eng_vocab_size)"
   ]
  },
  {
   "cell_type": "code",
   "execution_count": 16,
   "id": "white-cliff",
   "metadata": {},
   "outputs": [
    {
     "data": {
      "text/plain": [
       "(9000, 10)"
      ]
     },
     "execution_count": 16,
     "metadata": {},
     "output_type": "execute_result"
    }
   ],
   "source": [
    "trainX.shape"
   ]
  },
  {
   "cell_type": "code",
   "execution_count": 17,
   "id": "biological-exhibit",
   "metadata": {},
   "outputs": [
    {
     "data": {
      "text/plain": [
       "array([[ 338,    3,    0, ...,    0,    0,    0],\n",
       "       [   5,   48,  263, ...,    0,    0,    0],\n",
       "       [   3,   12, 2006, ...,    0,    0,    0],\n",
       "       ...,\n",
       "       [   1,   47,    4, ...,    0,    0,    0],\n",
       "       [   3, 1313,    0, ...,    0,    0,    0],\n",
       "       [  44,   46,  214, ...,    0,    0,    0]])"
      ]
     },
     "execution_count": 17,
     "metadata": {},
     "output_type": "execute_result"
    }
   ],
   "source": [
    "trainX"
   ]
  },
  {
   "cell_type": "code",
   "execution_count": 18,
   "id": "brutal-excellence",
   "metadata": {},
   "outputs": [
    {
     "data": {
      "text/plain": [
       "(9000, 5, 2404)"
      ]
     },
     "execution_count": 18,
     "metadata": {},
     "output_type": "execute_result"
    }
   ],
   "source": [
    "trainY.shape"
   ]
  },
  {
   "cell_type": "code",
   "execution_count": 19,
   "id": "medical-scene",
   "metadata": {},
   "outputs": [
    {
     "data": {
      "text/plain": [
       "array([[[0., 0., 0., ..., 0., 0., 0.],\n",
       "        [0., 0., 1., ..., 0., 0., 0.],\n",
       "        [1., 0., 0., ..., 0., 0., 0.],\n",
       "        [1., 0., 0., ..., 0., 0., 0.],\n",
       "        [1., 0., 0., ..., 0., 0., 0.]],\n",
       "\n",
       "       [[0., 0., 0., ..., 0., 0., 0.],\n",
       "        [0., 0., 0., ..., 0., 0., 0.],\n",
       "        [0., 0., 0., ..., 0., 0., 0.],\n",
       "        [1., 0., 0., ..., 0., 0., 0.],\n",
       "        [1., 0., 0., ..., 0., 0., 0.]]], dtype=float32)"
      ]
     },
     "execution_count": 19,
     "metadata": {},
     "output_type": "execute_result"
    }
   ],
   "source": [
    "trainY[:2]"
   ]
  },
  {
   "cell_type": "markdown",
   "id": "nasty-process",
   "metadata": {},
   "source": [
    "## Train Neural Translation Model"
   ]
  },
  {
   "cell_type": "markdown",
   "id": "designed-interpretation",
   "metadata": {},
   "source": [
    "We will use an encoder-decoder LSTM model on this problem. In this architecture, the input sequence is encoded by a front-end model called the encoder then decoded word by word by a backend model called the decoder."
   ]
  },
  {
   "cell_type": "code",
   "execution_count": 32,
   "id": "secret-support",
   "metadata": {},
   "outputs": [],
   "source": [
    "# define NMT model\n",
    "def define_model(src_vocab, tar_vocab, src_timesteps, tar_timesteps, n_units):\n",
    "    model = Sequential()\n",
    "    model.add(Embedding(src_vocab, n_units, input_length=src_timesteps, mask_zero=True))\n",
    "    model.add(LSTM(n_units, return_sequences = True))\n",
    "    model.add(Dropout(0.2))\n",
    "    model.add(LSTM(n_units))\n",
    "    model.add(Dropout(0.2))\n",
    "    model.add(RepeatVector(tar_timesteps))\n",
    "    model.add(LSTM(n_units, return_sequences=True))\n",
    "    model.add(Dropout(0.2))\n",
    "    model.add(LSTM(n_units, return_sequences=True))\n",
    "    model.add(Dropout(0.2))\n",
    "    model.add(TimeDistributed(Dense(tar_vocab, activation='softmax')))\n",
    "    return model\n"
   ]
  },
  {
   "cell_type": "code",
   "execution_count": 33,
   "id": "numerous-girlfriend",
   "metadata": {},
   "outputs": [
    {
     "name": "stdout",
     "output_type": "stream",
     "text": [
      "Model: \"sequential_4\"\n",
      "_________________________________________________________________\n",
      "Layer (type)                 Output Shape              Param #   \n",
      "=================================================================\n",
      "embedding_4 (Embedding)      (None, 10, 256)           987136    \n",
      "_________________________________________________________________\n",
      "lstm_7 (LSTM)                (None, 10, 256)           525312    \n",
      "_________________________________________________________________\n",
      "dropout (Dropout)            (None, 10, 256)           0         \n",
      "_________________________________________________________________\n",
      "lstm_8 (LSTM)                (None, 256)               525312    \n",
      "_________________________________________________________________\n",
      "dropout_1 (Dropout)          (None, 256)               0         \n",
      "_________________________________________________________________\n",
      "repeat_vector_3 (RepeatVecto (None, 5, 256)            0         \n",
      "_________________________________________________________________\n",
      "lstm_9 (LSTM)                (None, 5, 256)            525312    \n",
      "_________________________________________________________________\n",
      "dropout_2 (Dropout)          (None, 5, 256)            0         \n",
      "_________________________________________________________________\n",
      "lstm_10 (LSTM)               (None, 5, 256)            525312    \n",
      "_________________________________________________________________\n",
      "dropout_3 (Dropout)          (None, 5, 256)            0         \n",
      "_________________________________________________________________\n",
      "time_distributed_3 (TimeDist (None, 5, 2404)           617828    \n",
      "=================================================================\n",
      "Total params: 3,706,212\n",
      "Trainable params: 3,706,212\n",
      "Non-trainable params: 0\n",
      "_________________________________________________________________\n",
      "None\n"
     ]
    }
   ],
   "source": [
    "# define model\n",
    "model = define_model(ger_vocab_size, eng_vocab_size, ger_length, eng_length, 256)\n",
    "model.compile(optimizer='adam', loss='categorical_crossentropy',metrics = ['Accuracy'])\n",
    "# summarize defined model\n",
    "print(model.summary())\n",
    "#plot_model(model, to_file='model.png', show_shapes=True)"
   ]
  },
  {
   "cell_type": "code",
   "execution_count": 34,
   "id": "analyzed-lafayette",
   "metadata": {
    "scrolled": true
   },
   "outputs": [
    {
     "name": "stdout",
     "output_type": "stream",
     "text": [
      "Train on 9000 samples, validate on 1000 samples\n",
      "Epoch 1/50\n",
      "9000/9000 - 11s - loss: 4.3526 - Accuracy: 0.0000e+00 - val_loss: 3.6819 - val_Accuracy: 0.0000e+00\n",
      "Epoch 2/50\n",
      "9000/9000 - 2s - loss: 3.5434 - Accuracy: 0.0000e+00 - val_loss: 3.5449 - val_Accuracy: 0.0000e+00\n",
      "Epoch 3/50\n",
      "9000/9000 - 2s - loss: 3.4267 - Accuracy: 0.0000e+00 - val_loss: 3.4916 - val_Accuracy: 0.0000e+00\n",
      "Epoch 4/50\n",
      "9000/9000 - 2s - loss: 3.3415 - Accuracy: 0.0000e+00 - val_loss: 3.4529 - val_Accuracy: 0.0000e+00\n",
      "Epoch 5/50\n",
      "9000/9000 - 2s - loss: 3.2735 - Accuracy: 0.0000e+00 - val_loss: 3.4303 - val_Accuracy: 0.0000e+00\n",
      "Epoch 6/50\n",
      "9000/9000 - 2s - loss: 3.2025 - Accuracy: 0.0000e+00 - val_loss: 3.3649 - val_Accuracy: 0.0000e+00\n",
      "Epoch 7/50\n",
      "9000/9000 - 2s - loss: 3.0810 - Accuracy: 0.0000e+00 - val_loss: 3.2749 - val_Accuracy: 0.0000e+00\n",
      "Epoch 8/50\n",
      "9000/9000 - 2s - loss: 2.9792 - Accuracy: 0.0000e+00 - val_loss: 3.2105 - val_Accuracy: 0.0000e+00\n",
      "Epoch 9/50\n",
      "9000/9000 - 2s - loss: 2.8862 - Accuracy: 0.0000e+00 - val_loss: 3.1501 - val_Accuracy: 0.0000e+00\n",
      "Epoch 10/50\n",
      "9000/9000 - 2s - loss: 2.7947 - Accuracy: 0.0000e+00 - val_loss: 3.0707 - val_Accuracy: 0.0000e+00\n",
      "Epoch 11/50\n",
      "9000/9000 - 2s - loss: 2.7071 - Accuracy: 0.0000e+00 - val_loss: 3.0155 - val_Accuracy: 0.0000e+00\n",
      "Epoch 12/50\n",
      "9000/9000 - 2s - loss: 2.6207 - Accuracy: 0.0000e+00 - val_loss: 2.9483 - val_Accuracy: 0.0000e+00\n",
      "Epoch 13/50\n",
      "9000/9000 - 2s - loss: 2.5380 - Accuracy: 0.0000e+00 - val_loss: 2.9067 - val_Accuracy: 0.0000e+00\n",
      "Epoch 14/50\n",
      "9000/9000 - 2s - loss: 2.4635 - Accuracy: 0.0000e+00 - val_loss: 2.8552 - val_Accuracy: 0.0000e+00\n",
      "Epoch 15/50\n",
      "9000/9000 - 2s - loss: 2.3764 - Accuracy: 0.0000e+00 - val_loss: 2.7934 - val_Accuracy: 0.0000e+00\n",
      "Epoch 16/50\n",
      "9000/9000 - 2s - loss: 2.2958 - Accuracy: 0.0000e+00 - val_loss: 2.7429 - val_Accuracy: 0.0000e+00\n",
      "Epoch 17/50\n",
      "9000/9000 - 2s - loss: 2.2231 - Accuracy: 0.0000e+00 - val_loss: 2.7005 - val_Accuracy: 0.0000e+00\n",
      "Epoch 18/50\n",
      "9000/9000 - 2s - loss: 2.1557 - Accuracy: 0.0000e+00 - val_loss: 2.6797 - val_Accuracy: 0.0000e+00\n",
      "Epoch 19/50\n",
      "9000/9000 - 2s - loss: 2.0870 - Accuracy: 0.0000e+00 - val_loss: 2.6172 - val_Accuracy: 0.0000e+00\n",
      "Epoch 20/50\n",
      "9000/9000 - 2s - loss: 2.0184 - Accuracy: 0.0000e+00 - val_loss: 2.6012 - val_Accuracy: 0.0000e+00\n",
      "Epoch 21/50\n",
      "9000/9000 - 2s - loss: 1.9597 - Accuracy: 0.0000e+00 - val_loss: 2.5737 - val_Accuracy: 0.0000e+00\n",
      "Epoch 22/50\n",
      "9000/9000 - 2s - loss: 1.9060 - Accuracy: 0.0000e+00 - val_loss: 2.5530 - val_Accuracy: 0.0000e+00\n",
      "Epoch 23/50\n",
      "9000/9000 - 2s - loss: 1.8536 - Accuracy: 0.0000e+00 - val_loss: 2.5130 - val_Accuracy: 0.0000e+00\n",
      "Epoch 24/50\n",
      "9000/9000 - 2s - loss: 1.7992 - Accuracy: 0.0000e+00 - val_loss: 2.5159 - val_Accuracy: 0.0000e+00\n",
      "Epoch 25/50\n",
      "9000/9000 - 2s - loss: 1.7511 - Accuracy: 0.0000e+00 - val_loss: 2.4916 - val_Accuracy: 0.0000e+00\n",
      "Epoch 26/50\n",
      "9000/9000 - 2s - loss: 1.7036 - Accuracy: 0.0000e+00 - val_loss: 2.4769 - val_Accuracy: 0.0000e+00\n",
      "Epoch 27/50\n",
      "9000/9000 - 2s - loss: 1.6608 - Accuracy: 0.0000e+00 - val_loss: 2.4733 - val_Accuracy: 0.0000e+00\n",
      "Epoch 28/50\n",
      "9000/9000 - 2s - loss: 1.6241 - Accuracy: 0.0000e+00 - val_loss: 2.4573 - val_Accuracy: 0.0000e+00\n",
      "Epoch 29/50\n",
      "9000/9000 - 2s - loss: 1.5838 - Accuracy: 0.0000e+00 - val_loss: 2.4470 - val_Accuracy: 0.0000e+00\n",
      "Epoch 30/50\n",
      "9000/9000 - 2s - loss: 1.5421 - Accuracy: 0.0000e+00 - val_loss: 2.4443 - val_Accuracy: 0.0000e+00\n",
      "Epoch 31/50\n",
      "9000/9000 - 2s - loss: 1.5009 - Accuracy: 0.0000e+00 - val_loss: 2.4223 - val_Accuracy: 0.0000e+00\n",
      "Epoch 32/50\n",
      "9000/9000 - 2s - loss: 1.4691 - Accuracy: 0.0000e+00 - val_loss: 2.4126 - val_Accuracy: 0.0000e+00\n",
      "Epoch 33/50\n",
      "9000/9000 - 2s - loss: 1.4288 - Accuracy: 0.0000e+00 - val_loss: 2.3829 - val_Accuracy: 0.0000e+00\n",
      "Epoch 34/50\n",
      "9000/9000 - 2s - loss: 1.3971 - Accuracy: 0.0000e+00 - val_loss: 2.4053 - val_Accuracy: 0.0000e+00\n",
      "Epoch 35/50\n",
      "9000/9000 - 2s - loss: 1.3576 - Accuracy: 0.0000e+00 - val_loss: 2.3819 - val_Accuracy: 0.0000e+00\n",
      "Epoch 36/50\n",
      "9000/9000 - 2s - loss: 1.3282 - Accuracy: 0.0000e+00 - val_loss: 2.3860 - val_Accuracy: 0.0000e+00\n",
      "Epoch 37/50\n",
      "9000/9000 - 2s - loss: 1.2992 - Accuracy: 0.0000e+00 - val_loss: 2.3800 - val_Accuracy: 0.0000e+00\n",
      "Epoch 38/50\n",
      "9000/9000 - 2s - loss: 1.2685 - Accuracy: 0.0000e+00 - val_loss: 2.3720 - val_Accuracy: 0.0000e+00\n",
      "Epoch 39/50\n",
      "9000/9000 - 2s - loss: 1.2381 - Accuracy: 0.0000e+00 - val_loss: 2.3621 - val_Accuracy: 0.0000e+00\n",
      "Epoch 40/50\n",
      "9000/9000 - 2s - loss: 1.2052 - Accuracy: 0.0000e+00 - val_loss: 2.3451 - val_Accuracy: 0.0000e+00\n",
      "Epoch 41/50\n",
      "9000/9000 - 2s - loss: 1.1735 - Accuracy: 0.0000e+00 - val_loss: 2.3609 - val_Accuracy: 0.0000e+00\n",
      "Epoch 42/50\n",
      "9000/9000 - 2s - loss: 1.1469 - Accuracy: 0.0000e+00 - val_loss: 2.3490 - val_Accuracy: 0.0000e+00\n",
      "Epoch 43/50\n",
      "9000/9000 - 2s - loss: 1.1183 - Accuracy: 0.0000e+00 - val_loss: 2.3451 - val_Accuracy: 0.0000e+00\n",
      "Epoch 44/50\n",
      "9000/9000 - 2s - loss: 1.0916 - Accuracy: 0.0000e+00 - val_loss: 2.3352 - val_Accuracy: 0.0000e+00\n",
      "Epoch 45/50\n",
      "9000/9000 - 2s - loss: 1.0686 - Accuracy: 0.0000e+00 - val_loss: 2.3405 - val_Accuracy: 0.0000e+00\n",
      "Epoch 46/50\n",
      "9000/9000 - 2s - loss: 1.0479 - Accuracy: 0.0000e+00 - val_loss: 2.3194 - val_Accuracy: 0.0000e+00\n",
      "Epoch 47/50\n",
      "9000/9000 - 2s - loss: 1.0156 - Accuracy: 0.0000e+00 - val_loss: 2.3268 - val_Accuracy: 0.0000e+00\n",
      "Epoch 48/50\n",
      "9000/9000 - 2s - loss: 0.9959 - Accuracy: 0.0000e+00 - val_loss: 2.3373 - val_Accuracy: 0.0000e+00\n",
      "Epoch 49/50\n",
      "9000/9000 - 2s - loss: 0.9707 - Accuracy: 0.0000e+00 - val_loss: 2.3279 - val_Accuracy: 0.0000e+00\n",
      "Epoch 50/50\n",
      "9000/9000 - 2s - loss: 0.9475 - Accuracy: 0.0000e+00 - val_loss: 2.3537 - val_Accuracy: 0.0000e+00\n"
     ]
    },
    {
     "data": {
      "text/plain": [
       "<tensorflow.python.keras.callbacks.History at 0x1d609fa60c8>"
      ]
     },
     "execution_count": 34,
     "metadata": {},
     "output_type": "execute_result"
    }
   ],
   "source": [
    "# fit model\n",
    "#filename = 'model.h5'\n",
    "#checkpoint = ModelCheckpoint(filename, monitor='val_loss', verbose=1, save_best_only=True, mode='min')\n",
    "model.fit(trainX, trainY, epochs=50, batch_size=64, \n",
    "          validation_data=(testX, testY), \n",
    "          #callbacks=[checkpoint], \n",
    "          verbose=2)"
   ]
  },
  {
   "cell_type": "markdown",
   "id": "drawn-desktop",
   "metadata": {},
   "source": [
    "## Evaluate Neural Translation Model"
   ]
  },
  {
   "cell_type": "code",
   "execution_count": 40,
   "id": "numerous-worship",
   "metadata": {},
   "outputs": [],
   "source": [
    "# map an integer to a word\n",
    "def word_for_id(integer, tokenizer):\n",
    "\tfor word, index in tokenizer.word_index.items():\n",
    "\t\tif index == integer:\n",
    "\t\t\treturn word\n",
    "\treturn None\n",
    "\n",
    "# generate target given source sequence\n",
    "def predict_sequence(model, tokenizer, source):\n",
    "\tprediction = model.predict(source, verbose=0)[0]\n",
    "\tintegers = [argmax(vector) for vector in prediction]\n",
    "\ttarget = list()\n",
    "\tfor i in integers:\n",
    "\t\tword = word_for_id(i, tokenizer)\n",
    "\t\tif word is None:\n",
    "\t\t\tbreak\n",
    "\t\ttarget.append(word)\n",
    "\treturn ' '.join(target)"
   ]
  },
  {
   "cell_type": "markdown",
   "id": "desirable-cruise",
   "metadata": {},
   "source": [
    "Next, we can repeat this for each source phrase in a dataset and compare the predicted result to the expected target phrase in English.\n",
    "We can print some of these comparisons to screen to get an idea of how the model performs in practice.\n",
    "We will also calculate the BLEU scores to get a quantitative idea of how well the model has performed"
   ]
  },
  {
   "cell_type": "code",
   "execution_count": 41,
   "id": "amber-liberia",
   "metadata": {},
   "outputs": [],
   "source": [
    "# evaluate the skill of the model\n",
    "def evaluate_model(model, tokenizer, sources, raw_dataset):\n",
    "\tactual, predicted = list(), list()\n",
    "\tfor i, source in enumerate(sources):\n",
    "\t\t# translate encoded source text\n",
    "\t\tsource = source.reshape((1, source.shape[0]))\n",
    "\t\ttranslation = predict_sequence(model, eng_tokenizer, source)\n",
    "\t\traw_target, raw_src = raw_dataset[i]\n",
    "\t\tif i < 10:\n",
    "\t\t\tprint('src=[%s], target=[%s], predicted=[%s]' % (raw_src, raw_target, translation))\n",
    "\t\tactual.append([raw_target.split()])\n",
    "\t\tpredicted.append(translation.split())\n",
    "\t# calculate BLEU score\n",
    "\tprint('BLEU-1: %f' % corpus_bleu(actual, predicted, weights=(1.0, 0, 0, 0)))\n",
    "\tprint('BLEU-2: %f' % corpus_bleu(actual, predicted, weights=(0.5, 0.5, 0, 0)))\n",
    "\tprint('BLEU-3: %f' % corpus_bleu(actual, predicted, weights=(0.3, 0.3, 0.3, 0)))\n",
    "\tprint('BLEU-4: %f' % corpus_bleu(actual, predicted, weights=(0.25, 0.25, 0.25, 0.25)))"
   ]
  },
  {
   "cell_type": "code",
   "execution_count": 45,
   "id": "nearby-receiver",
   "metadata": {},
   "outputs": [
    {
     "name": "stdout",
     "output_type": "stream",
     "text": [
      "train\n",
      "src=[frag tom], target=[ask tom], predicted=[ask tom]\n",
      "src=[es wird besser], target=[it gets better], predicted=[it works hard]\n",
      "src=[tom hat asthma], target=[tom has asthma], predicted=[tom has hiccups]\n",
      "src=[du kannst gehen], target=[you may go], predicted=[you may go]\n",
      "src=[ich fuhle mich beschutzt], target=[i feel protected], predicted=[i feel refreshed]\n",
      "src=[tom beschleunigte], target=[tom accelerated], predicted=[toms accelerated]\n",
      "src=[ist tom allein], target=[is tom alone], predicted=[is tom hungry]\n",
      "src=[hast du tom verklagt], target=[did you sue tom], predicted=[did you stop tom]\n",
      "src=[mach die ture zu], target=[close the door], predicted=[lock the door]\n",
      "src=[ich bin ziemlich beschaftigt], target=[im quite busy], predicted=[im still busy]\n",
      "BLEU-1: 0.704258\n",
      "BLEU-2: 0.591665\n",
      "BLEU-3: 0.488556\n",
      "BLEU-4: 0.272257\n"
     ]
    }
   ],
   "source": [
    "print('train')\n",
    "evaluate_model(model, eng_tokenizer, trainX, train)\n"
   ]
  },
  {
   "cell_type": "code",
   "execution_count": 46,
   "id": "identical-allah",
   "metadata": {},
   "outputs": [
    {
     "name": "stdout",
     "output_type": "stream",
     "text": [
      "test\n",
      "src=[habt ihr zeit], target=[do you have time], predicted=[do you have]\n",
      "src=[konnen wir jetzt gehen], target=[can we leave now], predicted=[can we go now]\n",
      "src=[tom blieb], target=[tom stayed], predicted=[tom slipped]\n",
      "src=[es geht mir phantastisch], target=[i feel fantastic], predicted=[i feel it]\n",
      "src=[ich habe toms schlussel], target=[i have toms key], predicted=[i not a crook]\n",
      "src=[gehe arbeiten], target=[go to work], predicted=[go to sleep]\n",
      "src=[wir sind ungeduldig], target=[were impatient], predicted=[were are]\n",
      "src=[lasst mich sehen], target=[let me see], predicted=[let me see it]\n",
      "src=[ich bin moslem], target=[i am a muslim], predicted=[i am a student]\n",
      "src=[das auto gehort mir], target=[i own this car], predicted=[the is blushed]\n",
      "BLEU-1: 0.460236\n",
      "BLEU-2: 0.319018\n",
      "BLEU-3: 0.239483\n",
      "BLEU-4: 0.099681\n"
     ]
    }
   ],
   "source": [
    "# test on some test sequences\n",
    "print('test')\n",
    "evaluate_model(model, eng_tokenizer, testX, test)"
   ]
  },
  {
   "cell_type": "code",
   "execution_count": null,
   "id": "minimal-surgeon",
   "metadata": {},
   "outputs": [],
   "source": []
  },
  {
   "cell_type": "code",
   "execution_count": null,
   "id": "hairy-supplier",
   "metadata": {},
   "outputs": [],
   "source": []
  },
  {
   "cell_type": "code",
   "execution_count": null,
   "id": "large-hopkins",
   "metadata": {},
   "outputs": [],
   "source": []
  },
  {
   "cell_type": "code",
   "execution_count": null,
   "id": "sitting-mortgage",
   "metadata": {},
   "outputs": [],
   "source": []
  },
  {
   "cell_type": "code",
   "execution_count": null,
   "id": "lucky-subsection",
   "metadata": {},
   "outputs": [],
   "source": []
  },
  {
   "cell_type": "code",
   "execution_count": null,
   "id": "common-prompt",
   "metadata": {},
   "outputs": [],
   "source": []
  },
  {
   "cell_type": "code",
   "execution_count": null,
   "id": "secondary-january",
   "metadata": {},
   "outputs": [],
   "source": []
  },
  {
   "cell_type": "code",
   "execution_count": null,
   "id": "color-respondent",
   "metadata": {},
   "outputs": [],
   "source": []
  },
  {
   "cell_type": "code",
   "execution_count": null,
   "id": "extensive-injury",
   "metadata": {},
   "outputs": [],
   "source": []
  },
  {
   "cell_type": "code",
   "execution_count": null,
   "id": "comfortable-clear",
   "metadata": {},
   "outputs": [],
   "source": []
  },
  {
   "cell_type": "code",
   "execution_count": null,
   "id": "electrical-federation",
   "metadata": {},
   "outputs": [],
   "source": []
  },
  {
   "cell_type": "code",
   "execution_count": null,
   "id": "induced-vienna",
   "metadata": {},
   "outputs": [],
   "source": []
  },
  {
   "cell_type": "code",
   "execution_count": null,
   "id": "dominant-intermediate",
   "metadata": {},
   "outputs": [],
   "source": []
  },
  {
   "cell_type": "code",
   "execution_count": null,
   "id": "aging-thousand",
   "metadata": {},
   "outputs": [],
   "source": []
  },
  {
   "cell_type": "code",
   "execution_count": null,
   "id": "latest-canal",
   "metadata": {},
   "outputs": [],
   "source": []
  },
  {
   "cell_type": "code",
   "execution_count": null,
   "id": "chemical-maine",
   "metadata": {},
   "outputs": [],
   "source": []
  },
  {
   "cell_type": "code",
   "execution_count": null,
   "id": "veterinary-colombia",
   "metadata": {},
   "outputs": [],
   "source": []
  },
  {
   "cell_type": "code",
   "execution_count": null,
   "id": "universal-strategy",
   "metadata": {},
   "outputs": [],
   "source": []
  },
  {
   "cell_type": "code",
   "execution_count": null,
   "id": "aggressive-importance",
   "metadata": {},
   "outputs": [],
   "source": []
  },
  {
   "cell_type": "code",
   "execution_count": null,
   "id": "cheap-appointment",
   "metadata": {},
   "outputs": [],
   "source": []
  }
 ],
 "metadata": {
  "kernelspec": {
   "display_name": "Python 3.7 (tensorflow)",
   "language": "python",
   "name": "tensorflow"
  },
  "language_info": {
   "codemirror_mode": {
    "name": "ipython",
    "version": 3
   },
   "file_extension": ".py",
   "mimetype": "text/x-python",
   "name": "python",
   "nbconvert_exporter": "python",
   "pygments_lexer": "ipython3",
   "version": "3.7.10"
  }
 },
 "nbformat": 4,
 "nbformat_minor": 5
}
